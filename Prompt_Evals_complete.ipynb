{
 "cells": [
  {
   "cell_type": "code",
   "metadata": {
    "ExecuteTime": {
     "end_time": "2025-09-18T14:16:24.342927Z",
     "start_time": "2025-09-18T14:16:24.340067Z"
    }
   },
   "source": [
    "import os\n",
    "import boto3\n",
    "import json\n",
    "from dotenv import load_dotenv"
   ],
   "outputs": [],
   "execution_count": 7
  },
  {
   "cell_type": "code",
   "metadata": {
    "ExecuteTime": {
     "end_time": "2025-09-18T14:16:24.362575Z",
     "start_time": "2025-09-18T14:16:24.353106Z"
    }
   },
   "source": [
    "load_dotenv()\n",
    "\n",
    "client = boto3.client(\"bedrock-runtime\", region_name=\"us-east-1\",\n",
    "    aws_access_key_id=os.getenv('AWS_ACCESS_KEY_ID'),\n",
    "    aws_secret_access_key=os.getenv('AWS_SECRET_ACCESS_KEY'),\n",
    "                      )\n",
    "\n",
    "inference_profile_id = 'us.anthropic.claude-3-5-haiku-20241022-v1:0' # inference profile\n",
    "model_id = inference_profile_id\n",
    "\n",
    "\n",
    "def add_user_message(messages, text):\n",
    "    user_message = {\"role\": \"user\", \"content\": [{\"text\": text}]}\n",
    "    messages.append(user_message)\n",
    "\n",
    "\n",
    "def add_assistant_message(messages, text):\n",
    "    assistant_message = {\"role\": \"assistant\", \"content\": [{\"text\": text}]}\n",
    "    messages.append(assistant_message)\n",
    "\n",
    "\n",
    "def chat(messages, system=None, temperature=1.0, stop_sequences=[]):\n",
    "    params = {\n",
    "        \"modelId\": model_id,\n",
    "        \"messages\": messages,\n",
    "        \"inferenceConfig\": {\n",
    "            \"temperature\": temperature,\n",
    "            \"stopSequences\": stop_sequences,\n",
    "        },\n",
    "    }\n",
    "\n",
    "    if system:\n",
    "        params[\"system\"] = [{\"text\": system}]\n",
    "\n",
    "    response = client.converse(**params)\n",
    "\n",
    "    return response[\"output\"][\"message\"][\"content\"][0][\"text\"]"
   ],
   "outputs": [],
   "execution_count": 8
  },
  {
   "cell_type": "code",
   "metadata": {
    "ExecuteTime": {
     "end_time": "2025-09-18T14:16:24.370241Z",
     "start_time": "2025-09-18T14:16:24.367984Z"
    }
   },
   "source": [
    "def generate_dataset():\n",
    "    prompt = \"\"\"\n",
    "Generate a evaluation dataset for a prompt evaluation. The dataset will be used to evaluate prompts\n",
    "that generate Python, JSON, or Regex specifically for AWS-related tasks. Generate an array of JSON objects,\n",
    "each representing task that requires Python, JSON, or a Regex to complete.\n",
    "\n",
    "Example output:\n",
    "```json\n",
    "[\n",
    "    {\n",
    "        \"task\": \"Description of task\",\n",
    "        \"format\": \"json\" or \"python\" or \"regex\",\n",
    "        \"solution_criteria\": \"Key criteria for evaluating the solution\"\n",
    "    },\n",
    "    ...additional\n",
    "]\n",
    "```\n",
    "\n",
    "* Focus on tasks that can be solved by writing a single Python function, a single JSON object, or a regular expression.\n",
    "* Focus on tasks that do not require writing much code\n",
    "\n",
    "Please generate 3 objects.\n",
    "\"\"\"\n",
    "\n",
    "    messages = []\n",
    "    add_user_message(messages, prompt)\n",
    "    add_assistant_message(messages, \"```json\")\n",
    "    text = chat(messages, stop_sequences=[\"```\"])\n",
    "    return json.loads(text)"
   ],
   "outputs": [],
   "execution_count": 9
  },
  {
   "cell_type": "code",
   "metadata": {
    "ExecuteTime": {
     "end_time": "2025-09-18T14:16:30.227316Z",
     "start_time": "2025-09-18T14:16:24.374638Z"
    }
   },
   "source": [
    "dataset = generate_dataset()\n",
    "with open(\"dataset.json\", \"w\") as f:\n",
    "    json.dump(dataset, f, indent=2)"
   ],
   "outputs": [],
   "execution_count": 10
  },
  {
   "cell_type": "code",
   "metadata": {
    "ExecuteTime": {
     "end_time": "2025-09-18T14:16:30.244571Z",
     "start_time": "2025-09-18T14:16:30.242239Z"
    }
   },
   "source": [
    "def run_prompt(test_case):\n",
    "    \"\"\"Merges the prompt and test case input, then returns the result\"\"\"\n",
    "    prompt = f\"\"\"\n",
    "Please solve the following task:\n",
    "\n",
    "{test_case[\"task\"]}\n",
    "\n",
    "* Respond only with Python, JSON, or a plain Regex\n",
    "* Do not add any comments or commentary or explanation\n",
    "\"\"\"\n",
    "\n",
    "    system_prompt = \"You are an experienced AWS engineer with a hyper focus on addressing corner cases\"\n",
    "\n",
    "    messages = []\n",
    "    add_user_message(messages, prompt)\n",
    "    add_assistant_message(messages, \"```code\")\n",
    "    output = chat(messages, stop_sequences=[\"```\"], system=system_prompt)\n",
    "    return output"
   ],
   "outputs": [],
   "execution_count": 11
  },
  {
   "cell_type": "code",
   "metadata": {
    "ExecuteTime": {
     "end_time": "2025-09-18T14:16:30.249926Z",
     "start_time": "2025-09-18T14:16:30.247687Z"
    }
   },
   "source": [
    "def grade_by_model(test_case, output):\n",
    "    eval_prompt = f\"\"\"\n",
    "You are an expert AWS code reviewer. Your task is to evaluate the following AI-generated solution.\n",
    "\n",
    "Original Task:\n",
    "<task>\n",
    "{test_case[\"task\"]}\n",
    "</task>\n",
    "\n",
    "Solution to Evaluate:\n",
    "<solution>\n",
    "{output}\n",
    "</solution>\n",
    "\n",
    "Criteria you should use to evaluate the solution:\n",
    "<criteria>\n",
    "{test_case[\"solution_criteria\"]}\n",
    "</criteria>\n",
    "\n",
    "Output Format\n",
    "Provide your evaluation as a structured JSON object with the following fields, in this specific order:\n",
    "- \"strengths\": An array of 1-3 key strengths\n",
    "- \"weaknesses\": An array of 1-3 key areas for improvement\n",
    "- \"reasoning\": A concise explanation of your overall assessment\n",
    "- \"score\": A number between 1-10\n",
    "\n",
    "Respond with JSON. Keep your response concise and direct.\n",
    "Example response shape:\n",
    "{{\n",
    "    \"strengths\": string[],\n",
    "    \"weaknesses\": string[],\n",
    "    \"reasoning\": string,\n",
    "    \"score\": number\n",
    "}}\n",
    "    \"\"\"\n",
    "\n",
    "    messages = []\n",
    "    add_user_message(messages, eval_prompt)\n",
    "    add_assistant_message(messages, \"```json\")\n",
    "    eval_text = chat(messages, stop_sequences=[\"```\"])\n",
    "    return json.loads(eval_text)\n"
   ],
   "outputs": [],
   "execution_count": 12
  },
  {
   "cell_type": "code",
   "metadata": {
    "ExecuteTime": {
     "end_time": "2025-09-18T14:16:30.256908Z",
     "start_time": "2025-09-18T14:16:30.253800Z"
    }
   },
   "source": [
    "import re\n",
    "import ast\n",
    "\n",
    "\n",
    "def validate_json(text):\n",
    "    try:\n",
    "        json.loads(text.strip())\n",
    "        return 10\n",
    "    except json.JSONDecodeError:\n",
    "        return 0\n",
    "\n",
    "\n",
    "def validate_python(text):\n",
    "    try:\n",
    "        ast.parse(text.strip())\n",
    "        return 10\n",
    "    except SyntaxError:\n",
    "        return 0\n",
    "\n",
    "\n",
    "def validate_regex(text):\n",
    "    try:\n",
    "        re.compile(text.strip())\n",
    "        return 10\n",
    "    except re.error:\n",
    "        return 0\n",
    "\n",
    "\n",
    "def grade_syntax(response, test_case):\n",
    "    format = test_case[\"format\"]\n",
    "    if format == \"json\":\n",
    "        return validate_json(response)\n",
    "    elif format == \"python\":\n",
    "        return validate_python(response)\n",
    "    else:\n",
    "        return validate_regex(response)\n"
   ],
   "outputs": [],
   "execution_count": 13
  },
  {
   "cell_type": "code",
   "metadata": {
    "ExecuteTime": {
     "end_time": "2025-09-18T14:16:30.262202Z",
     "start_time": "2025-09-18T14:16:30.260068Z"
    }
   },
   "source": [
    "def run_test_case(test_case):\n",
    "    \"\"\"Calls run_prompt, then grades the result\"\"\"\n",
    "    output = run_prompt(test_case)\n",
    "\n",
    "    model_grade = grade_by_model(test_case, output)\n",
    "    model_score = model_grade[\"score\"]\n",
    "    reasoning = model_grade[\"reasoning\"]\n",
    "\n",
    "    syntax_score = grade_syntax(output, test_case)\n",
    "\n",
    "    score = (model_score + syntax_score) / 2\n",
    "\n",
    "    return {\n",
    "        \"output\": output,\n",
    "        \"test_case\": test_case,\n",
    "        \"score\": score,\n",
    "        \"reasoning\": reasoning,\n",
    "    }"
   ],
   "outputs": [],
   "execution_count": 14
  },
  {
   "cell_type": "code",
   "metadata": {
    "ExecuteTime": {
     "end_time": "2025-09-18T14:16:30.305420Z",
     "start_time": "2025-09-18T14:16:30.265288Z"
    }
   },
   "source": [
    "from statistics import mean\n",
    "\n",
    "\n",
    "def run_eval(dataset):\n",
    "    \"\"\"Loads the dataset and calls run_test_case with each case\"\"\"\n",
    "    results = []\n",
    "\n",
    "    for test_case in dataset:\n",
    "        result = run_test_case(test_case)\n",
    "        results.append(result)\n",
    "\n",
    "    average_score = mean([result[\"score\"] for result in results])\n",
    "    print(f\"Average score: {average_score}\")\n",
    "\n",
    "    return results"
   ],
   "outputs": [],
   "execution_count": 15
  },
  {
   "cell_type": "code",
   "metadata": {
    "ExecuteTime": {
     "end_time": "2025-09-18T14:16:47.472479Z",
     "start_time": "2025-09-18T14:16:30.318050Z"
    }
   },
   "source": [
    "with open(\"dataset.json\", \"r\") as f:\n",
    "    dataset = json.load(f)\n",
    "\n",
    "results = run_eval(dataset)"
   ],
   "outputs": [
    {
     "name": "stdout",
     "output_type": "stream",
     "text": [
      "Average score: 7.166666666666667\n"
     ]
    }
   ],
   "execution_count": 16
  },
  {
   "cell_type": "code",
   "metadata": {
    "ExecuteTime": {
     "end_time": "2025-09-18T14:16:47.505395Z",
     "start_time": "2025-09-18T14:16:47.503071Z"
    }
   },
   "source": [
    "print(json.dumps(results, indent=2))"
   ],
   "outputs": [
    {
     "name": "stdout",
     "output_type": "stream",
     "text": [
      "[\n",
      "  {\n",
      "    \"output\": \"\\n^(?!-)[a-z0-9-]{3,63}(?<!-)$\\n\",\n",
      "    \"test_case\": {\n",
      "      \"task\": \"Create a regular expression to validate an AWS S3 bucket name according to AWS naming rules (3-63 characters, lowercase letters, numbers, and hyphens, cannot start or end with a hyphen)\",\n",
      "      \"format\": \"regex\",\n",
      "      \"solution_criteria\": \"Must match valid S3 bucket name patterns and reject invalid names\"\n",
      "    },\n",
      "    \"score\": 9.0,\n",
      "    \"reasoning\": \"This regex provides a robust validation of core AWS S3 bucket naming rules, capturing the essential constraints with a compact pattern. It effectively prevents edge cases like hyphen placement and enforces character type restrictions.\"\n",
      "  },\n",
      "  {\n",
      "    \"output\": \"\\ndef convert_ec2_state_to_display_name(states):\\n    state_mapping = {\\n        'pending': 'Pending',\\n        'running': 'Running', \\n        'shutting-down': 'Shutting Down',\\n        'terminated': 'Terminated',\\n        'stopping': 'Stopping',\\n        'stopped': 'Stopped'\\n    }\\n    \\n    return [state_mapping.get(state.lower(), state) for state in states]\\n\",\n",
      "    \"test_case\": {\n",
      "      \"task\": \"Write a Python function to convert a list of AWS EC2 instance states to their corresponding display names (e.g., 'running' \\u2192 'Running', 'stopped' \\u2192 'Stopped')\",\n",
      "      \"format\": \"python\",\n",
      "      \"solution_criteria\": \"Function should handle standard EC2 instance states and provide proper capitalization\"\n",
      "    },\n",
      "    \"score\": 9.0,\n",
      "    \"reasoning\": \"The function effectively converts EC2 instance states to display names with proper capitalization. It provides a robust mapping that covers the primary EC2 instance states while gracefully handling unexpected inputs. The implementation is concise and uses a clean list comprehension approach.\"\n",
      "  },\n",
      "  {\n",
      "    \"output\": \":python\\n{\\n    \\\"Version\\\": \\\"2012-10-17\\\",\\n    \\\"Statement\\\": [\\n        {\\n            \\\"Effect\\\": \\\"Deny\\\",\\n            \\\"Action\\\": \\\"*\\\",\\n            \\\"Resource\\\": \\\"*\\\",\\n            \\\"Condition\\\": {\\n                \\\"StringNotEquals\\\": {\\n                    \\\"aws:RequestedRegion\\\": [\\n                        \\\"us-east-1\\\", \\n                        \\\"us-west-2\\\",\\n                        \\\"eu-west-1\\\"\\n                    ]\\n                }\\n            }\\n        }\\n    ]\\n}\\n\",\n",
      "    \"test_case\": {\n",
      "      \"task\": \"Create a JSON object to define IAM policy conditions for restricting access to specific AWS regions\",\n",
      "      \"format\": \"json\",\n",
      "      \"solution_criteria\": \"JSON must use correct IAM policy condition syntax and successfully limit resource access to defined regions\"\n",
      "    },\n",
      "    \"score\": 3.5,\n",
      "    \"reasoning\": \"The policy effectively restricts access to non-specified regions using standard IAM condition syntax. However, a 'Deny' policy might create unintended access limitations and should be carefully implemented alongside other permission policies.\"\n",
      "  }\n",
      "]\n"
     ]
    }
   ],
   "execution_count": 17
  }
 ],
 "metadata": {
  "kernelspec": {
   "display_name": ".venv",
   "language": "python",
   "name": "python3"
  },
  "language_info": {
   "codemirror_mode": {
    "name": "ipython",
    "version": 3
   },
   "file_extension": ".py",
   "mimetype": "text/x-python",
   "name": "python",
   "nbconvert_exporter": "python",
   "pygments_lexer": "ipython3",
   "version": "3.12.9"
  }
 },
 "nbformat": 4,
 "nbformat_minor": 2
}
