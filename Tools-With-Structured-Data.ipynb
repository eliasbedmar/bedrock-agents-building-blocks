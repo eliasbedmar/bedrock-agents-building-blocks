{
 "cells": [
  {
   "metadata": {},
   "cell_type": "markdown",
   "source": [
    "# Structured Data & Flexible Schema\n",
    "- Tools can be used to enforce Structured output - but this must be 'hardcoded' ahead of time\n",
    "- Trade-off - structure and flexibility\n",
    "- Can use Flexible Schema - Instead of writing a detailed schema for every data extraction task, you can create one generic tool called to_json that accepts any object structure. The key is setting the input schema to allow additional properties, then specifying your exact requirements in the prompt itself."
   ]
  },
  {
   "cell_type": "code",
   "execution_count": 27,
   "metadata": {},
   "outputs": [],
   "source": [
    "import os\n",
    "import boto3\n",
    "from dotenv import load_dotenv\n",
    "\n",
    "# Client Setup\n",
    "load_dotenv()\n",
    "\n",
    "client = boto3.client(\"bedrock-runtime\", region_name=\"us-east-1\",\n",
    "    aws_access_key_id=os.getenv('AWS_ACCESS_KEY_ID'),\n",
    "    aws_secret_access_key=os.getenv('AWS_SECRET_ACCESS_KEY'),\n",
    "                      )\n",
    "\n",
    "inference_profile_id = 'us.anthropic.claude-3-5-haiku-20241022-v1:0' # inference profile\n",
    "model_id = inference_profile_id"
   ]
  },
  {
   "cell_type": "code",
   "execution_count": null,
   "metadata": {},
   "outputs": [],
   "source": [
    "# Helper functions\n",
    "\n",
    "\n",
    "def add_user_message(messages, content):\n",
    "    if isinstance(content, str):\n",
    "        user_message = {\"role\": \"user\", \"content\": [{\"text\": content}]}\n",
    "    else:\n",
    "        user_message = {\"role\": \"user\", \"content\": content}\n",
    "    messages.append(user_message)\n",
    "\n",
    "\n",
    "def add_assistant_message(messages, content):\n",
    "    if isinstance(content, str):\n",
    "        assistant_message = {\n",
    "            \"role\": \"assistant\",\n",
    "            \"content\": [{\"text\": content}],\n",
    "        }\n",
    "    else:\n",
    "        assistant_message = {\"role\": \"assistant\", \"content\": content}\n",
    "\n",
    "    messages.append(assistant_message)\n",
    "\n",
    "\n",
    "def chat(\n",
    "    messages,\n",
    "    system=None,\n",
    "    temperature=1.0,\n",
    "    stop_sequences=[],\n",
    "    tools=None,\n",
    "    tool_choice=\"auto\",\n",
    "):\n",
    "    params = {\n",
    "        \"modelId\": model_id,\n",
    "        \"messages\": messages,\n",
    "        \"inferenceConfig\": {\n",
    "            \"temperature\": temperature,\n",
    "            \"stopSequences\": stop_sequences,\n",
    "        },\n",
    "    }\n",
    "\n",
    "    if system:\n",
    "        params[\"system\"] = [{\"text\": system}]\n",
    "\n",
    "    tool_choices = {\n",
    "        \"auto\": {\"auto\": {}},\n",
    "        \"any\": {\"any\": {}},\n",
    "    }\n",
    "    if tools:\n",
    "        choice = tool_choices.get(tool_choice, {\"tool\": {\"name\": tool_choice}})\n",
    "        params[\"toolConfig\"] = {\"tools\": tools, \"toolChoice\": choice}\n",
    "\n",
    "    response = client.converse(**params)\n",
    "    parts = response[\"output\"][\"message\"][\"content\"]\n",
    "\n",
    "    return {\n",
    "        \"parts\": parts,\n",
    "        \"stop_reason\": response[\"stopReason\"],\n",
    "        \"text\": \"\\n\".join([p[\"text\"] for p in parts if \"text\" in p]),\n",
    "    }"
   ]
  },
  {
   "cell_type": "code",
   "execution_count": null,
   "metadata": {},
   "outputs": [],
   "source": [
    "# Tool Schemas\n",
    "\n",
    "article_details_schema = {\n",
    "    \"toolSpec\": {\n",
    "        \"name\": \"article_details\",\n",
    "        \"description\": \"This tool should be called with details about an article. It accepts information about the article's title, author, and related topics.\",\n",
    "        \"inputSchema\": {\n",
    "            \"json\": {\n",
    "                \"type\": \"object\",\n",
    "                \"properties\": {\n",
    "                    \"title\": {\n",
    "                        \"type\": \"string\",\n",
    "                        \"description\": \"The title of the article. Can be left empty.\",\n",
    "                    },\n",
    "                    \"author\": {\n",
    "                        \"type\": \"string\",\n",
    "                        \"description\": \"The name of the article's author. Can be left empty.\",\n",
    "                    },\n",
    "                    \"topics\": {\n",
    "                        \"type\": \"array\",\n",
    "                        \"items\": {\"type\": \"string\"},\n",
    "                        \"description\": \"A list of topics or categories that the article covers. Can be an empty list.\",\n",
    "                    },\n",
    "                },\n",
    "            }\n",
    "        },\n",
    "    }\n",
    "}\n",
    "\n",
    "to_json_schema = {\n",
    "    \"toolSpec\": {\n",
    "        \"name\": \"to_json\",\n",
    "        \"description\": \"This tool processes any JSON data and can be used for generating structured content, transforming information, or creating any JSON-based output needed for your task.\",\n",
    "        \"inputSchema\": {\n",
    "            \"json\": {\"type\": \"object\", \"additionalProperties\": True}\n",
    "        },\n",
    "    }\n",
    "}"
   ]
  },
  {
   "cell_type": "code",
   "execution_count": null,
   "metadata": {},
   "outputs": [],
   "source": [
    "messages = []\n",
    "\n",
    "add_user_message(\n",
    "    messages,\n",
    "    \"Write a one-paragraph scholarly article about computer science. Include a title and author name\",\n",
    ")\n",
    "\n",
    "result = chat(messages)\n",
    "\n",
    "add_assistant_message(messages, result[\"text\"])\n",
    "\n",
    "result[\"text\"]"
   ]
  },
  {
   "cell_type": "code",
   "execution_count": null,
   "metadata": {},
   "outputs": [
    {
     "data": {
      "text/plain": [
       "{'parts': [{'toolUse': {'toolUseId': 'tooluse_27gGLWxzS2-qCebZlPeGOw',\n",
       "    'name': 'article_details',\n",
       "    'input': {'author': 'Dr. Alexandra Reynolds',\n",
       "     'title': 'Convergence of Deep Learning and Quantum Computing in Modern AI Architectures',\n",
       "     'topics': ['deep learning',\n",
       "      'quantum computing',\n",
       "      'artificial intelligence',\n",
       "      'quantum neural networks',\n",
       "      'hybrid classical-quantum architectures',\n",
       "      'computer science research']}}}],\n",
       " 'stop_reason': 'tool_use',\n",
       " 'text': ''}"
      ]
     },
     "execution_count": 32,
     "metadata": {},
     "output_type": "execute_result"
    }
   ],
   "source": [
    "messages = []\n",
    "\n",
    "add_user_message(\n",
    "    messages,\n",
    "    f\"\"\"\n",
    "Analyze the article below and extract key data. Then call the article_details tool.\n",
    "                 \n",
    "<article_text>\n",
    "{result[\"text\"]}                 \n",
    "</article_text>\n",
    "\"\"\",\n",
    ")\n",
    "\n",
    "json_result = chat(\n",
    "    messages, tools=[article_details_schema], tool_choice=\"article_details\"\n",
    ")\n",
    "\n",
    "json_result"
   ]
  },
  {
   "cell_type": "code",
   "execution_count": null,
   "metadata": {},
   "outputs": [],
   "source": [
    "messages = []\n",
    "\n",
    "add_user_message(\n",
    "    messages,\n",
    "    f\"\"\"\n",
    "Analyze the article below and extract key data. Then call the to_json tool.\n",
    "                 \n",
    "<article_text>\n",
    "{result[\"text\"]}                 \n",
    "</article_text>\n",
    "\n",
    "When you call to_json, pass in the following structure:\n",
    "{{\n",
    "    \"title\": str # title of the article,\n",
    "    \"author\": str # author of the article,\n",
    "    \"topics\": List[str] # List of topics mentioned in the article,\n",
    "    \"num_topics: int # Number of topics mentioned\n",
    "}}\n",
    "\"\"\",\n",
    ")\n",
    "\n",
    "flexible_result = chat(messages, tools=[to_json_schema], tool_choice=\"to_json\")"
   ]
  },
  {
   "cell_type": "code",
   "execution_count": 36,
   "metadata": {},
   "outputs": [
    {
     "data": {
      "text/plain": [
       "{'parts': [{'toolUse': {'toolUseId': 'tooluse_UsFOrRvxQU-qYPD4qYqtFA',\n",
       "    'name': 'to_json',\n",
       "    'input': {'title': 'Convergence of Deep Learning and Quantum Computing in Modern AI Architectures',\n",
       "     'author': 'Dr. Alexandra Reynolds',\n",
       "     'topics': ['Deep Learning',\n",
       "      'Quantum Computing',\n",
       "      'Neural Networks',\n",
       "      'Quantum Neural Networks (QNNs)',\n",
       "      'Variational Quantum Algorithms',\n",
       "      'Hybrid Classical-Quantum Architectures',\n",
       "      'Quantum Decoherence',\n",
       "      'Machine Learning',\n",
       "      'Computational Problems',\n",
       "      'Superposition',\n",
       "      'Entanglement'],\n",
       "     'num_topics': 11}}}],\n",
       " 'stop_reason': 'tool_use',\n",
       " 'text': ''}"
      ]
     },
     "execution_count": 36,
     "metadata": {},
     "output_type": "execute_result"
    }
   ],
   "source": [
    "flexible_result"
   ]
  }
 ],
 "metadata": {
  "kernelspec": {
   "display_name": ".venv",
   "language": "python",
   "name": "python3"
  },
  "language_info": {
   "codemirror_mode": {
    "name": "ipython",
    "version": 3
   },
   "file_extension": ".py",
   "mimetype": "text/x-python",
   "name": "python",
   "nbconvert_exporter": "python",
   "pygments_lexer": "ipython3",
   "version": "3.12.9"
  }
 },
 "nbformat": 4,
 "nbformat_minor": 2
}
