{
 "cells": [
  {
   "metadata": {
    "collapsed": true
   },
   "cell_type": "markdown",
   "source": [
    "# Image Support\n",
    "- Up to 100 images across all messages in a single request\n",
    "- Max size 5MB\n",
    "- Max height/width - per single image and multiple images; can be included in base64 encoding or URL to image\n",
    "- Tokens per image = (width px x height px)/750\n",
    "- PROMPT ENGINEERING - KEY - It is very important to optimise Prompts. Use same techniques: Guidelines, Analysis Steps, One-Shot/Multi-Shot examples\n",
    "\n",
    "# PDF & CITATIONS\n",
    "- PDF Also Supported\n",
    "- Citations Supported (Argument within create - Message)\n",
    "- In Response: Citation block in message - cited_text, document_index, document_title, start_page_number, end_page_number\n",
    "- User assured authoritative answer (and not Claude interpretation)\n",
    "- Citations can be used with PDF, Text...etc\n",
    "- Can create UIs with references to documents summarised by Claude"
   ],
   "id": "aacecb06a307cc8f"
  },
  {
   "metadata": {
    "ExecuteTime": {
     "end_time": "2025-09-11T18:59:26.320149Z",
     "start_time": "2025-09-11T18:59:26.309852Z"
    }
   },
   "cell_type": "code",
   "source": [
    "import base64\n",
    "\n",
    "from anthropic import Anthropic\n",
    "# Load env variables and create client\n",
    "from dotenv import load_dotenv\n",
    "\n",
    "load_dotenv()\n",
    "\n",
    "client = Anthropic()\n",
    "model = \"claude-3-7-sonnet-latest\""
   ],
   "id": "b0c3f9abc94b8469",
   "outputs": [],
   "execution_count": 20
  },
  {
   "metadata": {
    "ExecuteTime": {
     "end_time": "2025-09-11T18:59:26.328841Z",
     "start_time": "2025-09-11T18:59:26.324292Z"
    }
   },
   "cell_type": "code",
   "source": [
    "# Helper functions\n",
    "from anthropic.types import Message\n",
    "\n",
    "\n",
    "def add_user_message(messages, message):\n",
    "    user_message = {\n",
    "        \"role\": \"user\",\n",
    "        \"content\": message.content if isinstance(message, Message) else message,\n",
    "    }\n",
    "    messages.append(user_message)\n",
    "\n",
    "\n",
    "def add_assistant_message(messages, message):\n",
    "    assistant_message = {\n",
    "        \"role\": \"assistant\",\n",
    "        \"content\": message.content if isinstance(message, Message) else message,\n",
    "    }\n",
    "    messages.append(assistant_message)\n",
    "\n",
    "\n",
    "def chat(\n",
    "        messages,\n",
    "        system=None,\n",
    "        temperature=1.0,\n",
    "        stop_sequences=[],\n",
    "        tools=None,\n",
    "        thinking=False,\n",
    "        thinking_budget=1024,\n",
    "):\n",
    "    params = {\n",
    "        \"model\": model,\n",
    "        \"max_tokens\": 4000,\n",
    "        \"messages\": messages,\n",
    "        \"temperature\": temperature,\n",
    "        \"stop_sequences\": stop_sequences,\n",
    "    }\n",
    "\n",
    "    if thinking:\n",
    "        params[\"thinking\"] = {\n",
    "            \"type\": \"enabled\",\n",
    "            \"budget_tokens\": thinking_budget,\n",
    "        }\n",
    "\n",
    "    if tools:\n",
    "        params[\"tools\"] = tools\n",
    "\n",
    "    if system:\n",
    "        params[\"system\"] = system\n",
    "\n",
    "    message = client.messages.create(**params)\n",
    "    return message\n",
    "\n",
    "\n",
    "def text_from_message(message):\n",
    "    return \"\\n\".join(\n",
    "        [block.text for block in message.content if block.type == \"text\"]\n",
    "    )"
   ],
   "id": "e0250361926a8811",
   "outputs": [],
   "execution_count": 21
  },
  {
   "metadata": {
    "ExecuteTime": {
     "end_time": "2025-09-11T18:59:26.333840Z",
     "start_time": "2025-09-11T18:59:26.331517Z"
    }
   },
   "cell_type": "code",
   "source": [
    "# Fire risk assessment prompt\n",
    "prompt = \"\"\"\n",
    "Analyze the attached satellite image of a property with these specific steps:\n",
    "\n",
    "1. Residence identification: Locate the primary residence on the property by looking for:\n",
    "   - The largest roofed structure\n",
    "   - Typical residential features (driveway connection, regular geometry)\n",
    "   - Distinction from other structures (garages, sheds, pools)\n",
    "   Describe the residence's location relative to property boundaries and other features.\n",
    "\n",
    "2. Tree overhang analysis: Examine all trees near the primary residence:\n",
    "   - Identify any trees whose canopy extends directly over any portion of the roof\n",
    "   - Estimate the percentage of roof covered by overhanging branches (0-25%, 25-50%, 50-75%, 75-100%)\n",
    "   - Note particularly dense areas of overhang\n",
    "\n",
    "3. Fire risk assessment: For any overhanging trees, evaluate:\n",
    "   - Potential wildfire vulnerability (ember catch points, continuous fuel paths to structure)\n",
    "   - Proximity to chimneys, vents, or other roof openings if visible\n",
    "   - Areas where branches create a \"bridge\" between wildland vegetation and the structure\n",
    "\n",
    "4. Defensible space identification: Assess the property's overall vegetative structure:\n",
    "   - Identify if trees connect to form a continuous canopy over or near the home\n",
    "   - Note any obvious fuel ladders (vegetation that can carry fire from ground to tree to roof)\n",
    "\n",
    "5. Fire risk rating: Based on your analysis, assign a Fire Risk Rating from 1-4:\n",
    "   - Rating 1 (Low Risk): No tree branches overhanging the roof, good defensible space around the structure\n",
    "   - Rating 2 (Moderate Risk): Minimal overhang (<25% of roof), some separation between tree canopies\n",
    "   - Rating 3 (High Risk): Significant overhang (25-50% of roof), connected tree canopies, multiple points of vulnerability\n",
    "   - Rating 4 (Severe Risk): Extensive overhang (>50% of roof), dense vegetation against structure, numerous ember catch points, limited defensible space\n",
    "\n",
    "For each item above (1-5), write one sentence summarizing your findings, with your final response being the numeric Fire Risk Rating (1-4) with a brief justification.\n",
    "\"\"\""
   ],
   "id": "dcfbe7221155a12c",
   "outputs": [],
   "execution_count": 22
  },
  {
   "metadata": {
    "ExecuteTime": {
     "end_time": "2025-09-11T18:59:26.338575Z",
     "start_time": "2025-09-11T18:59:26.336965Z"
    }
   },
   "cell_type": "code",
   "source": [
    "# # IMAGE PROCESSING\n",
    "# messages = []\n",
    "#\n",
    "# with open(\"./images/prop2.png\", \"rb\") as f:\n",
    "#     image_bytes = base64.standard_b64encode(f.read()).decode(\"utf8\")\n",
    "#\n",
    "# add_user_message(messages, [\n",
    "#     #Image Block\n",
    "#     {\n",
    "#         \"type\": \"image\",\n",
    "#         \"source\": {\n",
    "#             \"type\": \"base64\",\n",
    "#             \"media_type\": \"image/png\",\n",
    "#             \"data\": image_bytes\n",
    "#         }\n",
    "#     },\n",
    "#     #Text Block\n",
    "#     {\n",
    "#         \"type\": \"text\",\n",
    "#         \"text\": prompt\n",
    "#     }\n",
    "# ])\n",
    "#\n",
    "# chat(messages)"
   ],
   "id": "c1169f73da945550",
   "outputs": [],
   "execution_count": 23
  },
  {
   "metadata": {
    "ExecuteTime": {
     "end_time": "2025-09-11T18:59:32.725835Z",
     "start_time": "2025-09-11T18:59:26.342210Z"
    }
   },
   "cell_type": "code",
   "source": [
    "# PDF PROCESSING WITH CITATIONS\n",
    "messages = []\n",
    "\n",
    "with open(\"./earth.pdf\", \"rb\") as f:\n",
    "    image_bytes = base64.standard_b64encode(f.read()).decode(\"utf8\")\n",
    "\n",
    "add_user_message(messages, [\n",
    "    #Image Block\n",
    "    {\n",
    "        \"type\": \"document\",\n",
    "        \"source\": {\n",
    "            \"type\": \"base64\",\n",
    "            \"media_type\": \"application/pdf\",\n",
    "            \"data\": image_bytes\n",
    "        },\n",
    "        \"title\": \"earth.pdf\",\n",
    "        \"citations\": {\"enabled\": True}\n",
    "    },\n",
    "    #Text Block\n",
    "    {\n",
    "        \"type\": \"text\",\n",
    "        \"text\": \"Summarise document in 1 sentence\"\n",
    "    }\n",
    "])\n",
    "\n",
    "chat(messages)"
   ],
   "id": "d0270de16b634f09",
   "outputs": [
    {
     "data": {
      "text/plain": [
       "Message(id='msg_01TPKxtQJrhhzyX2HQ5JEwD8', content=[TextBlock(citations=[CitationPageLocation(cited_text=\"Earth\\r\\nThe Blue Marble, Apollo 17, December 1972\\r\\nDesignations\\r\\nAlternative\\r\\nnames\\r\\nThe world · The globe ·\\r\\nTerra · Tellus · Gaia ·\\r\\nMother Earth · Sol III\\r\\nAdjectives Earthly · Terrestrial · Terran\\r\\n· Tellurian\\r\\nSymbol and\\r\\nOrbital characteristics\\r\\nEpoch J2000\\r\\n[n 1]\\r\\nAphelion 152 097 597 km\\r\\nPerihelion 147 098 450 km\\r\\n[n 2]\\r\\nSemi-major axis 149 598 023 km\\r\\n[1]\\r\\nEccentricity 0.016 7086\\r\\n[1]\\r\\nOrbital period\\r\\n(sidereal)\\r\\n365.256 363 004 d\\r\\n[2]\\r\\n(1.000 017 420 96 aj)\\r\\nAverage orbital\\r\\nspeed\\r\\n29.7827 km/s\\r\\n[3]\\r\\nMean anomaly 358.617°\\r\\nInclination 7.155° – Sun's equator;\\r\\nEarth\\r\\nEarth is the third planet from the Sun and the only\\r\\nastronomical object known to harbor life. This is\\r\\nenabled by Earth being an ocean world, the only one in\\r\\nthe Solar System sustaining liquid surface water. Almost\\r\\nall of Earth's water is contained in its global ocean,\\r\\ncovering 70.8% of Earth's crust. The remaining 29.2% of\\r\\nEarth's crust is land, most of which is located in the\\r\\nform of continental landmasses within Earth's land\\r\\nhemisphere. \", document_index=0, document_title='earth.pdf', end_page_number=2, file_id=None, start_page_number=1, type='page_location'), CitationPageLocation(cited_text=\"It is the\\r\\ndensest planet in the Solar System. Of the four rocky\\r\\nplanets, it is the largest and most massive. Earth is\\r\\nabout eight light-minutes away from the Sun and orbits\\r\\nit, taking a year (about 365.25 days) to complete one\\r\\nrevolution. Earth rotates around its own axis in slightly\\r\\nless than a day (in about 23 hours and 56 minutes).\\r\\nEarth's axis of rotation is tilted with respect to the\\r\\nperpendicular to its orbital plane around the Sun,\\r\\nproducing seasons. Earth is orbited by one permanent\\r\\nnatural satellite, the Moon, which orbits Earth at\\r\\n384,400\\xa0 km (238,900\\xa0 mi)—1.28 light seconds—and is\\r\\nroughly a quarter as wide as Earth. \", document_index=0, document_title='earth.pdf', end_page_number=3, file_id=None, start_page_number=2, type='page_location'), CitationPageLocation(cited_text=\"Earth, like most other bodies in the Solar System,\\r\\nformed about 4.5\\xa0billion years ago from gas and dust in\\r\\nthe early Solar System. During the first billion years of\\r\\nEarth's history, the ocean formed and then life\\r\\ndeveloped within it. \", document_index=0, document_title='earth.pdf', end_page_number=3, file_id=None, start_page_number=2, type='page_location')], text='Earth is the third planet from the Sun and the only astronomical object known to harbor life, characterized by its ocean-covered surface (70.8%), continental landmasses (29.2%), and distinctive features including being the densest planet in the Solar System, the largest and most massive of the rocky planets, with a rotational period of nearly 24 hours, an axial tilt producing seasons, and a 4.5 billion-year history during which oceans formed and life developed.', type='text')], model='claude-3-7-sonnet-20250219', role='assistant', stop_reason='end_turn', stop_sequence=None, type='message', usage=Usage(cache_creation=CacheCreation(ephemeral_1h_input_tokens=0, ephemeral_5m_input_tokens=0), cache_creation_input_tokens=0, cache_read_input_tokens=0, input_tokens=11195, output_tokens=166, server_tool_use=None, service_tier='standard'))"
      ]
     },
     "execution_count": 24,
     "metadata": {},
     "output_type": "execute_result"
    }
   ],
   "execution_count": 24
  }
 ],
 "metadata": {
  "kernelspec": {
   "display_name": "Python 3",
   "language": "python",
   "name": "python3"
  },
  "language_info": {
   "codemirror_mode": {
    "name": "ipython",
    "version": 2
   },
   "file_extension": ".py",
   "mimetype": "text/x-python",
   "name": "python",
   "nbconvert_exporter": "python",
   "pygments_lexer": "ipython2",
   "version": "2.7.6"
  }
 },
 "nbformat": 4,
 "nbformat_minor": 5
}
